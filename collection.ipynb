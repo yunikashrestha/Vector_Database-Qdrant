{
 "cells": [
  {
   "cell_type": "markdown",
   "id": "e8090b63",
   "metadata": {},
   "source": [
    "## Collection"
   ]
  },
  {
   "cell_type": "code",
   "execution_count": null,
   "id": "bbb2c976",
   "metadata": {},
   "outputs": [],
   "source": [
    "## To run docker\n",
    "docker run -p 6333:6333 qdrant/qdrant"
   ]
  },
  {
   "cell_type": "code",
   "execution_count": 2,
   "id": "1a2de1d8",
   "metadata": {},
   "outputs": [
    {
     "name": "stderr",
     "output_type": "stream",
     "text": [
      "c:\\Users\\Asus\\OneDrive\\Desktop\\Autolab_intern\\env_name\\Lib\\site-packages\\tqdm\\auto.py:21: TqdmWarning: IProgress not found. Please update jupyter and ipywidgets. See https://ipywidgets.readthedocs.io/en/stable/user_install.html\n",
      "  from .autonotebook import tqdm as notebook_tqdm\n"
     ]
    }
   ],
   "source": [
    "# Installing the QdrantClient class \n",
    "from qdrant_client import QdrantClient"
   ]
  },
  {
   "cell_type": "code",
   "execution_count": 3,
   "id": "d6faea2a",
   "metadata": {},
   "outputs": [],
   "source": [
    "# creating a client object that connects  Python code to a Qdrant database running on your computer.\n",
    "client=QdrantClient(\"http://localhost:6333\")"
   ]
  },
  {
   "cell_type": "code",
   "execution_count": 4,
   "id": "031866e5",
   "metadata": {},
   "outputs": [],
   "source": [
    "# contains predefined data structures (classes) that QdrantClient expects when sending or receiving data.\n",
    "from qdrant_client import models"
   ]
  },
  {
   "cell_type": "code",
   "execution_count": 5,
   "id": "78ea546e",
   "metadata": {},
   "outputs": [
    {
     "data": {
      "text/plain": [
       "True"
      ]
     },
     "execution_count": 5,
     "metadata": {},
     "output_type": "execute_result"
    }
   ],
   "source": [
    "# Creating a collection\n",
    "client.create_collection(\n",
    "    collection_name=\"collection_qdrant\",\n",
    "    vectors_config=models.VectorParams(size=4, distance=models.Distance.COSINE),\n",
    "    \n",
    ")\n"
   ]
  },
  {
   "cell_type": "markdown",
   "id": "9b491052",
   "metadata": {},
   "source": [
    "## Points"
   ]
  },
  {
   "cell_type": "code",
   "execution_count": null,
   "id": "0d3cac64",
   "metadata": {},
   "outputs": [
    {
     "data": {
      "text/plain": [
       "UpdateResult(operation_id=3, status=<UpdateStatus.COMPLETED: 'completed'>)"
      ]
     },
     "execution_count": 10,
     "metadata": {},
     "output_type": "execute_result"
    }
   ],
   "source": [
    "# Inserting points in collection upsert=update or insert\n",
    "client.upsert(\n",
    "    collection_name=\"collection_qdrant\",\n",
    "    points=[\n",
    "        models.PointStruct(\n",
    "        id=1,\n",
    "        vector=[0.1,0.2,0.3,0.4],\n",
    "        payload={\n",
    "            \"category\":\"culture\",\n",
    "            \"color\":\"red\"\n",
    "        },\n",
    "\n",
    "    )\n",
    "\n",
    "    ],\n",
    "\n",
    ")"
   ]
  },
  {
   "cell_type": "code",
   "execution_count": 6,
   "id": "4187781a",
   "metadata": {},
   "outputs": [
    {
     "data": {
      "text/plain": [
       "UpdateResult(operation_id=0, status=<UpdateStatus.COMPLETED: 'completed'>)"
      ]
     },
     "execution_count": 6,
     "metadata": {},
     "output_type": "execute_result"
    }
   ],
   "source": [
    "#Record-oriented upsert\n",
    "client.upsert(\n",
    "    collection_name=\"collection_qdrant\",\n",
    "    points=[\n",
    "        models.PointStruct(\n",
    "        id=2,\n",
    "        payload={\n",
    "            \"category\":\"travel\",\n",
    "\n",
    "        },\n",
    "        vector=[0.4,0.5,0.6,0.7],\n",
    "\n",
    "    ),\n",
    "    models.PointStruct(\n",
    "        id=3,\n",
    "        payload ={\n",
    "            \"color\":\"green\"\n",
    "        },\n",
    "        vector=[0.4,0.5,0.8,0.9],\n",
    "    )\n",
    "    ],\n",
    "\n",
    ")\n",
    "\n"
   ]
  },
  {
   "cell_type": "code",
   "execution_count": 7,
   "id": "7d5c5186",
   "metadata": {},
   "outputs": [
    {
     "data": {
      "text/plain": [
       "UpdateResult(operation_id=1, status=<UpdateStatus.COMPLETED: 'completed'>)"
      ]
     },
     "execution_count": 7,
     "metadata": {},
     "output_type": "execute_result"
    }
   ],
   "source": [
    "\n",
    "# 3. Insert multiple vectors in batch\n",
    "client.upsert(\n",
    "    collection_name=\"collection_qdrant\",\n",
    "    points=models.Batch(\n",
    "        ids=[4, 5, 6],\n",
    "        payloads=[\n",
    "            {\"color\": \"yellow\"},\n",
    "            {\"color\": \"blue\"},\n",
    "            {\"color\": \"pink\"},\n",
    "        ],\n",
    "        vectors=[\n",
    "            [0.1, 0.2, 0.3, 0.7],\n",
    "            [0.1, 0.2, 0.4, 0.7],\n",
    "            [0.1, 0.2, 0.3, 0.8],\n",
    "        ],\n",
    "    ),\n",
    ")\n"
   ]
  },
  {
   "cell_type": "markdown",
   "id": "a962e7b0",
   "metadata": {},
   "source": [
    "## Vectors"
   ]
  },
  {
   "cell_type": "code",
   "execution_count": null,
   "id": "298903aa",
   "metadata": {},
   "outputs": [],
   "source": [
    "# creating Sparse Vector\n",
    "\n",
    "client.upsert(\n",
    "    collection_name=\"collection_qdrant\",\n",
    "    points=[\n",
    "        models.PointStruct(\n",
    "            id=9,\n",
    "            payload={\n",
    "                \"color\":\"pink\",\n",
    "            },\n",
    "            vector={\n",
    "                \"text\": models.SparseVector(\n",
    "                    indices=[1, 3, 5, 7],\n",
    "                    values=[0.1, 0.2, 0.3, 0.4]\n",
    "                )\n",
    "            }\n",
    "        )\n",
    "    ],\n",
    ")\n"
   ]
  },
  {
   "cell_type": "code",
   "execution_count": null,
   "id": "03ae2fbb",
   "metadata": {},
   "outputs": [],
   "source": [
    "# creating multivector\n",
    "# client.create_collection(\n",
    "#     collection_name=\"{collection_name}\",\n",
    "#     vectors_config=models.VectorParams(\n",
    "#         size=128,\n",
    "#         distance=models.Distance.COSINE,\n",
    "#         multivector_config=models.MultiVectorConfig(\n",
    "#             comparator=models.MultiVectorComparator.MAX_SIM\n",
    "#         ),\n",
    "#     ),\n",
    "# )\n",
    "client.upsert(\n",
    "    collection_name=\"collection_qdrant\",\n",
    "    points=[\n",
    "        models.PointStruct(\n",
    "            id=9,\n",
    "            payload={\n",
    "                \"color\":\"pink\",\n",
    "            },\n",
    "            vector=[\n",
    "                [-0.013,  0.020, -0.007, -0.111],\n",
    "                [-0.030, -0.055,  0.001,  0.072],\n",
    "                [-0.041,  0.014, -0.032, -0.062]\n",
    "            ],\n",
    "        )\n",
    "    ],\n",
    ")"
   ]
  },
  {
   "cell_type": "code",
   "execution_count": 9,
   "id": "e8d3dee4",
   "metadata": {},
   "outputs": [
    {
     "data": {
      "text/plain": [
       "True"
      ]
     },
     "execution_count": 9,
     "metadata": {},
     "output_type": "execute_result"
    }
   ],
   "source": [
    "# Named Vector\n",
    "client.create_collection(\n",
    "    collection_name=\"named_vector\",\n",
    "    vectors_config={\n",
    "        \"image\":models.VectorParams(size=4,distance=models.Distance.COSINE),\n",
    "        \"text\":models.VectorParams(size=3,distance=models.Distance.DOT)\n",
    "    }\n",
    ")"
   ]
  },
  {
   "cell_type": "markdown",
   "id": "308973a3",
   "metadata": {},
   "source": [
    "###### Inserting the points in named collection"
   ]
  },
  {
   "cell_type": "code",
   "execution_count": 20,
   "id": "ff709a0f",
   "metadata": {},
   "outputs": [
    {
     "data": {
      "text/plain": [
       "UpdateResult(operation_id=3, status=<UpdateStatus.COMPLETED: 'completed'>)"
      ]
     },
     "execution_count": 20,
     "metadata": {},
     "output_type": "execute_result"
    }
   ],
   "source": [
    "client.upsert(\n",
    "    collection_name=\"named_vector\",\n",
    "    points=[\n",
    "        models.PointStruct(\n",
    "            id=1,\n",
    "            vector={\n",
    "                \"image\":[0.1,0.1,0.1],\n",
    "                \"text\":[0.2,0.2],\n",
    "\n",
    "            },\n",
    "            payload={\n",
    "                \"color\":\"pink\"\n",
    "            },\n",
    "        ),\n",
    "        models.PointStruct(\n",
    "            id=2,\n",
    "            vector={\n",
    "                \"image\":[0.1,0.3,0.2],\n",
    "                \"text\":[0.1,0.1]\n",
    "\n",
    "            },\n",
    "            payload={\n",
    "                \"color\":\"grenn\"\n",
    "            }\n",
    "            \n",
    "        )\n",
    "    ],\n",
    "\n",
    ")"
   ]
  },
  {
   "cell_type": "markdown",
   "id": "9ade0210",
   "metadata": {},
   "source": [
    "###### Changing the datatype from default Float32 to Float16"
   ]
  },
  {
   "cell_type": "code",
   "execution_count": 16,
   "id": "73db65e4",
   "metadata": {},
   "outputs": [
    {
     "name": "stderr",
     "output_type": "stream",
     "text": [
      "C:\\Users\\Asus\\AppData\\Local\\Temp\\ipykernel_25644\\4002557391.py:2: DeprecationWarning: `recreate_collection` method is deprecated and will be removed in the future. Use `collection_exists` to check collection existence and `create_collection` instead.\n",
      "  client.recreate_collection(\n"
     ]
    },
    {
     "data": {
      "text/plain": [
       "True"
      ]
     },
     "execution_count": 16,
     "metadata": {},
     "output_type": "execute_result"
    }
   ],
   "source": [
    "from qdrant_client import models\n",
    "client.recreate_collection(\n",
    "    collection_name=\"named_vector\",\n",
    "    vectors_config={\n",
    "        \"image\": models.VectorParams(size=3, distance=models.Distance.COSINE, datatype=models.Datatype.FLOAT16),\n",
    "        \"text\": models.VectorParams(size=2, distance=models.Distance.DOT, datatype=models.Datatype.FLOAT16),\n",
    "    },\n",
    ")\n",
    "\n"
   ]
  },
  {
   "cell_type": "markdown",
   "id": "f2293db0",
   "metadata": {},
   "source": [
    "## Payloads"
   ]
  },
  {
   "cell_type": "markdown",
   "id": "75033408",
   "metadata": {},
   "source": [
    "#### Inserting different types payload"
   ]
  },
  {
   "cell_type": "code",
   "execution_count": 21,
   "id": "df9bf34e",
   "metadata": {},
   "outputs": [
    {
     "data": {
      "text/plain": [
       "UpdateResult(operation_id=4, status=<UpdateStatus.COMPLETED: 'completed'>)"
      ]
     },
     "execution_count": 21,
     "metadata": {},
     "output_type": "execute_result"
    }
   ],
   "source": [
    "client.upsert(\n",
    "    collection_name=\"named_vector\",\n",
    "    points=[\n",
    "        models.PointStruct(\n",
    "            id=2,\n",
    "            vector={\n",
    "                \"image\":[0.1,0.2,0.1],\n",
    "                \"text\":[0.000002,00.01]\n",
    "\n",
    "            },\n",
    "            payload={\n",
    "                \"color\":\"red\",\n",
    "                \"counts\":[1,2,3],\n",
    "                \"ratings\":[4.5,4.2],\n",
    "                \"is_delivered\":True,\n",
    "                \"created_at\":\"2023-02-08T10:49:00Z\"\n",
    "\n",
    "\n",
    "            }\n",
    "        )\n",
    "    ]\n",
    ")\n",
    "\n",
    "\n"
   ]
  },
  {
   "cell_type": "markdown",
   "id": "4ba218d7",
   "metadata": {},
   "source": [
    "#### Updating payload property"
   ]
  },
  {
   "cell_type": "code",
   "execution_count": 22,
   "id": "02370ecd",
   "metadata": {},
   "outputs": [
    {
     "data": {
      "text/plain": [
       "UpdateResult(operation_id=5, status=<UpdateStatus.COMPLETED: 'completed'>)"
      ]
     },
     "execution_count": 22,
     "metadata": {},
     "output_type": "execute_result"
    }
   ],
   "source": [
    "# 1.Set_payload method\n",
    "client.set_payload(\n",
    "    collection_name=\"named_vector\",\n",
    "    payload={\n",
    "        \"color\":\"green\",\n",
    "    },\n",
    "    points=[2],\n",
    ")"
   ]
  },
  {
   "cell_type": "code",
   "execution_count": 23,
   "id": "976e8d73",
   "metadata": {},
   "outputs": [
    {
     "data": {
      "text/plain": [
       "UpdateResult(operation_id=6, status=<UpdateStatus.COMPLETED: 'completed'>)"
      ]
     },
     "execution_count": 23,
     "metadata": {},
     "output_type": "execute_result"
    }
   ],
   "source": [
    "# 2. Updating payload without points no using Filter\n",
    "client.set_payload(\n",
    "    collection_name=\"named_vector\",\n",
    "    payload={\n",
    "        \"color\":\"black\",\n",
    "    },\n",
    "    points=models.Filter(\n",
    "        must=[\n",
    "        models.FieldCondition(\n",
    "            key=\"color\",\n",
    "            match=models.MatchValue(value=\"green\")\n",
    "        ),\n",
    "        ],\n",
    "    ),\n",
    ")"
   ]
  },
  {
   "cell_type": "code",
   "execution_count": 24,
   "id": "2b0d75d5",
   "metadata": {},
   "outputs": [
    {
     "data": {
      "text/plain": [
       "UpdateResult(operation_id=7, status=<UpdateStatus.COMPLETED: 'completed'>)"
      ]
     },
     "execution_count": 24,
     "metadata": {},
     "output_type": "execute_result"
    }
   ],
   "source": [
    "client.delete_payload(\n",
    "    collection_name=\"named_vector\",\n",
    "    keys={\"created_at\"},\n",
    "    points=[2],\n",
    ")"
   ]
  },
  {
   "cell_type": "code",
   "execution_count": null,
   "id": "f597e9be",
   "metadata": {},
   "outputs": [
    {
     "data": {
      "text/plain": [
       "UpdateResult(operation_id=13, status=<UpdateStatus.COMPLETED: 'completed'>)"
      ]
     },
     "execution_count": 46,
     "metadata": {},
     "output_type": "execute_result"
    }
   ],
   "source": [
    "client.upsert(\n",
    "    collection_name=\"named_vector\",\n",
    "    points=[models.PointStruct(\n",
    "    id=3,\n",
    "    payload={\n",
    "        \"name\":[\"luffy\",\"kakashi\"],\n",
    "        \n",
    "    },\n",
    "    vector={\n",
    "        \"image\":[0.2,0.2,0.02],\n",
    "        \"text\":[0.004,0.007],\n",
    "    },\n",
    "    \n",
    "),\n",
    "    ],\n",
    ")\n",
    "\n"
   ]
  },
  {
   "cell_type": "code",
   "execution_count": null,
   "id": "f383ca89",
   "metadata": {},
   "outputs": [
    {
     "data": {
      "text/plain": [
       "UpdateResult(operation_id=14, status=<UpdateStatus.COMPLETED: 'completed'>)"
      ]
     },
     "execution_count": 47,
     "metadata": {},
     "output_type": "execute_result"
    }
   ],
   "source": [
    "# Clearing the Payload of Point 3\n",
    "client.clear_payload(\n",
    "    collection_name=\"named_vector\",\n",
    "    points_selector=[3]\n",
    "\n",
    ")"
   ]
  },
  {
   "cell_type": "markdown",
   "id": "5cc3fbe0",
   "metadata": {},
   "source": [
    "##### Payload Indexing"
   ]
  },
  {
   "cell_type": "markdown",
   "id": "715377c2",
   "metadata": {},
   "source": [
    "##### Creating index for the payload to make the filtering/searching faster"
   ]
  },
  {
   "cell_type": "code",
   "execution_count": null,
   "id": "704a7a21",
   "metadata": {},
   "outputs": [
    {
     "data": {
      "text/plain": [
       "UpdateResult(operation_id=16, status=<UpdateStatus.COMPLETED: 'completed'>)"
      ]
     },
     "execution_count": 48,
     "metadata": {},
     "output_type": "execute_result"
    }
   ],
   "source": [
    "client.create_payload_index(\n",
    "    collection_name=\"named_vector\",\n",
    "    field_name=\"color\",\n",
    "    field_schema=\"keyword\"\n",
    ")"
   ]
  },
  {
   "cell_type": "markdown",
   "id": "5b416770",
   "metadata": {},
   "source": [
    "#### Facet Counts"
   ]
  },
  {
   "cell_type": "markdown",
   "id": "cac59130",
   "metadata": {},
   "source": [
    "#### A facet is like a summary (counting) of the unique values in a payload field.\n",
    "Think of it as “GROUP BY + COUNT” in SQL."
   ]
  },
  {
   "cell_type": "code",
   "execution_count": null,
   "id": "5a6443bb",
   "metadata": {},
   "outputs": [
    {
     "data": {
      "text/plain": [
       "FacetResponse(hits=[])"
      ]
     },
     "execution_count": 61,
     "metadata": {},
     "output_type": "execute_result"
    }
   ],
   "source": [
    "client.facet(\n",
    "    collection_name=\"named_vector\",\n",
    "    key=\"counts\",\n",
    "    facet_filter=models.Filter(\n",
    "        must=[\n",
    "            models.FieldCondition(\n",
    "                key=\"color\",\n",
    "                match=models.MatchValue(value=\"pink\")\n",
    "            )\n",
    "        ]\n",
    "    )\n",
    ")"
   ]
  },
  {
   "cell_type": "code",
   "execution_count": null,
   "id": "f403da25",
   "metadata": {},
   "outputs": [
    {
     "data": {
      "text/plain": [
       "UpdateResult(operation_id=20, status=<UpdateStatus.COMPLETED: 'completed'>)"
      ]
     },
     "execution_count": 62,
     "metadata": {},
     "output_type": "execute_result"
    }
   ],
   "source": [
    "client.create_payload_index(\n",
    "    collection_name=\"named_vector\",\n",
    "    field_name=\"counts\",\n",
    "    field_schema=models.IntegerIndexParams(type=models.IntegerIndexType.INTEGER,lookup=True,range=True)\n",
    ")"
   ]
  },
  {
   "cell_type": "markdown",
   "id": "28eff7ed",
   "metadata": {},
   "source": [
    "## Searching "
   ]
  },
  {
   "cell_type": "markdown",
   "id": "e161f035",
   "metadata": {},
   "source": [
    "### 1. Nearest neighbor search(KNN)"
   ]
  },
  {
   "cell_type": "code",
   "execution_count": null,
   "id": "79a52201",
   "metadata": {},
   "outputs": [
    {
     "data": {
      "text/plain": [
       "QueryResponse(points=[ScoredPoint(id=1, version=3, score=0.9737583, payload={'category': 'culture', 'color': 'red'}, vector=None, shard_key=None, order_value=None), ScoredPoint(id=2, version=1, score=0.97239053, payload={'category': 'travel'}, vector=None, shard_key=None, order_value=None), ScoredPoint(id=3, version=1, score=0.9640348, payload={'color': 'green'}, vector=None, shard_key=None, order_value=None), ScoredPoint(id=4, version=2, score=0.9532414, payload={'color': 'yellow'}, vector=None, shard_key=None, order_value=None), ScoredPoint(id=5, version=2, score=0.9487992, payload={'color': 'blue'}, vector=None, shard_key=None, order_value=None), ScoredPoint(id=6, version=2, score=0.9409592, payload={'color': 'pink'}, vector=None, shard_key=None, order_value=None)])"
      ]
     },
     "execution_count": 64,
     "metadata": {},
     "output_type": "execute_result"
    }
   ],
   "source": [
    "client.query_points(\n",
    "    collection_name=\"collection_qdrant\",\n",
    "    query=[0.1,0.2,0.15,0.3]#for dense vector\n",
    ")"
   ]
  },
  {
   "cell_type": "markdown",
   "id": "3c5baa01",
   "metadata": {},
   "source": [
    "### 2.Search by ID"
   ]
  },
  {
   "cell_type": "code",
   "execution_count": null,
   "id": "0c3b7b43",
   "metadata": {},
   "outputs": [
    {
     "data": {
      "text/plain": [
       "QueryResponse(points=[ScoredPoint(id=3, version=1, score=0.9906371, payload={'color': 'green'}, vector=None, shard_key=None, order_value=None), ScoredPoint(id=5, version=2, score=0.9819805, payload={'color': 'blue'}, vector=None, shard_key=None, order_value=None), ScoredPoint(id=2, version=1, score=0.97590005, payload={'category': 'travel'}, vector=None, shard_key=None, order_value=None), ScoredPoint(id=4, version=2, score=0.9660918, payload={'color': 'yellow'}, vector=None, shard_key=None, order_value=None), ScoredPoint(id=6, version=2, score=0.95093286, payload={'color': 'pink'}, vector=None, shard_key=None, order_value=None)])"
      ]
     },
     "execution_count": 69,
     "metadata": {},
     "output_type": "execute_result"
    }
   ],
   "source": [
    "client=QdrantClient\n",
    "client.query_points(\n",
    "    collection_name=\"collection_qdrant\",\n",
    "    query=1# for dense vector\n",
    "\n",
    ")"
   ]
  },
  {
   "cell_type": "markdown",
   "id": "d0e79048",
   "metadata": {},
   "source": [
    "### 3.Scroll Points"
   ]
  },
  {
   "cell_type": "code",
   "execution_count": 15,
   "id": "166f1962",
   "metadata": {},
   "outputs": [
    {
     "name": "stdout",
     "output_type": "stream",
     "text": [
      "([Record(id=1, payload={'color': 'pink'}, vector=None, shard_key=None, order_value=None)], None)\n"
     ]
    }
   ],
   "source": [
    "response=client.scroll(\n",
    "    collection_name=\"named_vector\",\n",
    "    scroll_filter=models.Filter(\n",
    "        must=[\n",
    "            models.FieldCondition(\n",
    "                key=\"color\",\n",
    "                match=models.MatchValue(value=\"pink\")\n",
    "            )\n",
    "        ]\n",
    "    ),\n",
    "    limit=1,\n",
    "    with_payload=True,\n",
    "    \n",
    ")\n",
    "print(response)"
   ]
  },
  {
   "cell_type": "markdown",
   "id": "162d43f2",
   "metadata": {},
   "source": [
    "### 4.Search API"
   ]
  },
  {
   "cell_type": "code",
   "execution_count": 19,
   "id": "fdcce0f4",
   "metadata": {},
   "outputs": [
    {
     "name": "stdout",
     "output_type": "stream",
     "text": [
      "([Record(id=1, payload={'color': 'pink'}, vector=None, shard_key=None, order_value=None)], None)\n"
     ]
    }
   ],
   "source": [
    "reponse=client.query_points(\n",
    "    collection_name=\"collection_qdrant\",\n",
    "    query=[0.2, 0.1, 0.9, 0.7],\n",
    "    query_filter=models.Filter(\n",
    "        must=[\n",
    "            models.FieldCondition(\n",
    "                key=\"color\",\n",
    "                match=models.MatchValue(\n",
    "                    value=\"black\",\n",
    "                ),\n",
    "            )\n",
    "        ]\n",
    "    ),\n",
    "    search_params=models.SearchParams(hnsw_ef=128, exact=False),\n",
    "    limit=3,\n",
    ")\n",
    "print(response)"
   ]
  },
  {
   "cell_type": "markdown",
   "id": "313d2579",
   "metadata": {},
   "source": [
    "### Query for named vector\n"
   ]
  },
  {
   "cell_type": "code",
   "execution_count": 5,
   "id": "6ba04f3e",
   "metadata": {},
   "outputs": [],
   "source": [
    "from qdrant_client import QdrantClient,models"
   ]
  },
  {
   "cell_type": "code",
   "execution_count": 6,
   "id": "54e208b5",
   "metadata": {},
   "outputs": [],
   "source": [
    "client=QdrantClient()"
   ]
  },
  {
   "cell_type": "code",
   "execution_count": 7,
   "id": "5fd58771",
   "metadata": {},
   "outputs": [
    {
     "data": {
      "text/plain": [
       "QueryResponse(points=[ScoredPoint(id=2, version=9, score=0.002001226, payload={'color': 'green', 'counts': [1, 2, 3], 'ratings': [4.5, 4.2], 'is_delivered': True}, vector=None, shard_key=None, order_value=None)])"
      ]
     },
     "execution_count": 7,
     "metadata": {},
     "output_type": "execute_result"
    }
   ],
   "source": [
    "\n",
    "client.query_points(\n",
    "    collection_name=\"named_vector\",\n",
    "    query=[0.2,0.2],\n",
    "    using=\"text\",\n",
    "    query_filter=models.Filter(\n",
    "        must=[\n",
    "            models.FieldCondition(key=\"color\",match=models.MatchValue(value=\"green\"))\n",
    "        ]\n",
    "    ),\n",
    "    limit=3\n",
    ")"
   ]
  },
  {
   "cell_type": "markdown",
   "id": "31e076a0",
   "metadata": {},
   "source": [
    "### Creating Collection for Sparse Vector"
   ]
  },
  {
   "cell_type": "code",
   "execution_count": null,
   "id": "822e6c4f",
   "metadata": {},
   "outputs": [],
   "source": [
    "# Creating Collection with Sparse Vector\n",
    "client.create_collection(\n",
    "    collection_name=\"sparse_vector\",\n",
    "    sparse_vectors_config={\n",
    "        \"text\":models.SparseVectorParams()\n",
    "    }\n",
    ")"
   ]
  },
  {
   "cell_type": "code",
   "execution_count": 15,
   "id": "52cbbd82",
   "metadata": {},
   "outputs": [
    {
     "data": {
      "text/plain": [
       "UpdateResult(operation_id=0, status=<UpdateStatus.COMPLETED: 'completed'>)"
      ]
     },
     "execution_count": 15,
     "metadata": {},
     "output_type": "execute_result"
    }
   ],
   "source": [
    "client.upsert(\n",
    "    collection_name=\"sparse_vector\",\n",
    "    points=[\n",
    "        models.PointStruct(\n",
    "            id=1,\n",
    "            vector={\n",
    "                \"text\": models.SparseVector(\n",
    "                    indices=[5,6],\n",
    "                    values=[0.2,0.3]\n",
    "                )\n",
    "            }\n",
    "        )\n",
    "    ]\n",
    ")"
   ]
  },
  {
   "cell_type": "code",
   "execution_count": 9,
   "id": "38a4123d",
   "metadata": {},
   "outputs": [
    {
     "data": {
      "text/plain": [
       "UpdateResult(operation_id=2, status=<UpdateStatus.COMPLETED: 'completed'>)"
      ]
     },
     "execution_count": 9,
     "metadata": {},
     "output_type": "execute_result"
    }
   ],
   "source": [
    "client.upsert(\n",
    "    collection_name=\"sparse_vector\",\n",
    "    points=[models.PointStruct(\n",
    "        id=3,\n",
    "        vector={\n",
    "            \"text\":models.SparseVector(\n",
    "                indices=[2,4,5],\n",
    "                values=[0.3,0.5,0.5]\n",
    "            )\n",
    "        },\n",
    "        payload={\n",
    "            \"color\":\"red\"\n",
    "        },\n",
    "\n",
    "\n",
    "    ),\n",
    "    ]\n",
    "\n",
    ")"
   ]
  },
  {
   "cell_type": "code",
   "execution_count": 10,
   "id": "342cbd98",
   "metadata": {},
   "outputs": [
    {
     "data": {
      "text/plain": [
       "[ScoredPoint(id=2, version=1, score=0.59000003, payload={'color': 'red'}, vector=None, shard_key=None, order_value=None),\n",
       " ScoredPoint(id=3, version=2, score=0.59000003, payload={'color': 'red'}, vector=None, shard_key=None, order_value=None),\n",
       " ScoredPoint(id=1, version=0, score=0.1, payload={}, vector=None, shard_key=None, order_value=None)]"
      ]
     },
     "execution_count": 10,
     "metadata": {},
     "output_type": "execute_result"
    }
   ],
   "source": [
    "client.query_points(\n",
    "    collection_name=\"sparse_vector\",\n",
    "    query=models.SparseVector(indices=[2,4,5],values=[0.3,0.5,0.5]),\n",
    "    using=\"text\",\n",
    "    limit=3\n",
    "\n",
    ").points"
   ]
  },
  {
   "cell_type": "code",
   "execution_count": 15,
   "id": "76f911d6",
   "metadata": {},
   "outputs": [
    {
     "data": {
      "text/plain": [
       "[ScoredPoint(id=2, version=1, score=0.59000003, payload={'color': 'red'}, vector={'text': SparseVector(indices=[2, 4, 5], values=[0.3, 0.5, 0.5])}, shard_key=None, order_value=None),\n",
       " ScoredPoint(id=3, version=2, score=0.59000003, payload={'color': 'red'}, vector={'text': SparseVector(indices=[2, 4, 5], values=[0.3, 0.5, 0.5])}, shard_key=None, order_value=None)]"
      ]
     },
     "execution_count": 15,
     "metadata": {},
     "output_type": "execute_result"
    }
   ],
   "source": [
    "client.query_points(\n",
    "    collection_name=\"sparse_vector\",\n",
    "    query=models.SparseVector(indices=[2,4,5], values=[0.3,0.5,0.5]),\n",
    "    using=\"text\",\n",
    "    with_vectors=True,\n",
    "    with_payload=True,\n",
    "    limit=2\n",
    "\n",
    ").points"
   ]
  },
  {
   "cell_type": "code",
   "execution_count": 19,
   "id": "9c99ad75",
   "metadata": {},
   "outputs": [
    {
     "data": {
      "text/plain": [
       "UpdateResult(operation_id=3, status=<UpdateStatus.COMPLETED: 'completed'>)"
      ]
     },
     "execution_count": 19,
     "metadata": {},
     "output_type": "execute_result"
    }
   ],
   "source": [
    "client.upsert(\n",
    "    collection_name=\"sparse_vector\",\n",
    "    points=[models.PointStruct(\n",
    "        id=4,\n",
    "        vector={\n",
    "            \"text\":models.SparseVector(\n",
    "            indices=[1,3],\n",
    "            values=[1,3]\n",
    "        \n",
    "        )\n",
    "        },\n",
    "        payload={\n",
    "            \"color\":\"blue\",\n",
    "            \"brand\":\"swift\"\n",
    "        },\n",
    "    )\n",
    "    ],\n",
    ")"
   ]
  },
  {
   "cell_type": "code",
   "execution_count": 26,
   "id": "395cb23a",
   "metadata": {},
   "outputs": [
    {
     "data": {
      "text/plain": [
       "[ScoredPoint(id=4, version=3, score=10.0, payload={'brand': 'swift'}, vector={'text': SparseVector(indices=[1, 3], values=[1.0, 3.0])}, shard_key=None, order_value=None)]"
      ]
     },
     "execution_count": 26,
     "metadata": {},
     "output_type": "execute_result"
    }
   ],
   "source": [
    "client.query_points(\n",
    "    collection_name=\"sparse_vector\",\n",
    "    query=models.SparseVector(indices=[1,3], values=[1,3]),\n",
    "    using=\"text\",\n",
    "    with_vectors=True,\n",
    "    with_payload={\n",
    "        \"exclude\":[\"color\"]\n",
    "    }\n",
    "\n",
    ").points"
   ]
  },
  {
   "cell_type": "markdown",
   "id": "fa8ad45b",
   "metadata": {},
   "source": [
    "### Batch Search"
   ]
  },
  {
   "cell_type": "code",
   "execution_count": 27,
   "id": "e3b45af2",
   "metadata": {},
   "outputs": [
    {
     "data": {
      "text/plain": [
       "[QueryResponse(points=[ScoredPoint(id=2, version=1, score=0.8783101, payload=None, vector=None, shard_key=None, order_value=None), ScoredPoint(id=3, version=1, score=0.8567673, payload=None, vector=None, shard_key=None, order_value=None), ScoredPoint(id=1, version=3, score=0.79999995, payload=None, vector=None, shard_key=None, order_value=None)]),\n",
       " QueryResponse(points=[ScoredPoint(id=1, version=3, score=1.0, payload=None, vector=None, shard_key=None, order_value=None), ScoredPoint(id=3, version=1, score=0.9906371, payload=None, vector=None, shard_key=None, order_value=None), ScoredPoint(id=5, version=2, score=0.9819805, payload=None, vector=None, shard_key=None, order_value=None)])]"
      ]
     },
     "execution_count": 27,
     "metadata": {},
     "output_type": "execute_result"
    }
   ],
   "source": [
    "search_queries=[\n",
    "    models.QueryRequest(query=[0.2,0.3,0.4,0.1],limit=3) ,\n",
    "    models.QueryRequest(query=[0.1,0.2,0.3,0.4],limit=3) ,\n",
    "]\n",
    "client.query_batch_points(\n",
    "    collection_name=\"collection_qdrant\",\n",
    "    requests=search_queries)\n",
    "\n"
   ]
  },
  {
   "cell_type": "code",
   "execution_count": null,
   "id": "ea413e0c",
   "metadata": {},
   "outputs": [],
   "source": [
    "client.query_points(\n",
    "    collection_name=\"named_vector\",\n",
    "    query=1,\n",
    "    using=\"text\",\n",
    "    lookup_from=models.LookupLocation(\n",
    "        collection_name=\"collection_qdrant\",\n",
    "        vector=\"text\",\n",
    "\n",
    "    ),\n",
    "\n",
    ")"
   ]
  },
  {
   "cell_type": "markdown",
   "id": "75f98c6f",
   "metadata": {},
   "source": [
    "## Pagination \n",
    "break up large amounts of data into smaller, manageable pieces (pages), instead of retrieving everything at once."
   ]
  },
  {
   "cell_type": "code",
   "execution_count": 37,
   "id": "482432c4",
   "metadata": {},
   "outputs": [
    {
     "data": {
      "text/plain": [
       "QueryResponse(points=[ScoredPoint(id=5, version=2, score=0.959635, payload={'color': 'blue'}, vector=[0.11952286, 0.23904572, 0.47809145, 0.83666], shard_key=None, order_value=None), ScoredPoint(id=4, version=2, score=0.9429649, payload={'color': 'yellow'}, vector=[0.12598816, 0.2519763, 0.3779645, 0.8819171], shard_key=None, order_value=None), ScoredPoint(id=6, version=2, score=0.9245002, payload={'color': 'pink'}, vector=[0.113227695, 0.22645539, 0.3396831, 0.90582156], shard_key=None, order_value=None)])"
      ]
     },
     "execution_count": 37,
     "metadata": {},
     "output_type": "execute_result"
    }
   ],
   "source": [
    "client.query_points(\n",
    "    collection_name=\"collection_qdrant\",\n",
    "    query=[0.2,0.3,0.4,0.5],\n",
    "    with_payload=True,\n",
    "    with_vectors=True,\n",
    "    offset=3,\n",
    "    limit=3\n",
    "    \n",
    ")"
   ]
  },
  {
   "cell_type": "markdown",
   "id": "03d8bc7a",
   "metadata": {},
   "source": [
    "## Searching by Group\n",
    "useful when you have multiple points for the same item, and you want to avoid redundancy of the same item "
   ]
  },
  {
   "cell_type": "code",
   "execution_count": null,
   "id": "d044452f",
   "metadata": {},
   "outputs": [
    {
     "data": {
      "text/plain": [
       "GroupsResult(groups=[PointGroup(hits=[ScoredPoint(id=1, version=3, score=1.0, payload={'category': 'culture', 'color': 'red'}, vector=None, shard_key=None, order_value=None)], id='red', lookup=None), PointGroup(hits=[ScoredPoint(id=3, version=1, score=0.9906371, payload={'color': 'green'}, vector=None, shard_key=None, order_value=None)], id='green', lookup=None)])"
      ]
     },
     "execution_count": 41,
     "metadata": {},
     "output_type": "execute_result"
    }
   ],
   "source": [
    "client.query_points_groups(\n",
    "    collection_name=\"collection_qdrant\",\n",
    "    query=[0.1,0.2,0.3,0.4],\n",
    "    group_by=\"color\",#All points with the same \"color\" value are treated as one group.\n",
    "    limit=2,\n",
    "    group_size=5\n",
    "# group_by → field to group points by (e.g., \"color\", \"document_id\").\n",
    "# group_size → how many points in each group are considered when ranking the group.\n",
    ")"
   ]
  },
  {
   "cell_type": "markdown",
   "id": "d939131b",
   "metadata": {},
   "source": [
    "### Lookup in groups\n",
    "instead of manually providing a vector for your search, you reference an existing point in a collection, and Qdrant automatically retrieves that vector and uses it to find similar points in a target collection."
   ]
  },
  {
   "cell_type": "code",
   "execution_count": 48,
   "id": "326558cd",
   "metadata": {},
   "outputs": [
    {
     "data": {
      "text/plain": [
       "QueryResponse(points=[ScoredPoint(id=1, version=3, score=1.0, payload={'category': 'culture', 'color': 'red'}, vector=None, shard_key=None, order_value=None), ScoredPoint(id=3, version=1, score=0.9906371, payload={'color': 'green'}, vector=None, shard_key=None, order_value=None), ScoredPoint(id=5, version=2, score=0.9819805, payload={'color': 'blue'}, vector=None, shard_key=None, order_value=None), ScoredPoint(id=2, version=1, score=0.97590005, payload={'category': 'travel'}, vector=None, shard_key=None, order_value=None), ScoredPoint(id=4, version=2, score=0.9660918, payload={'color': 'yellow'}, vector=None, shard_key=None, order_value=None), ScoredPoint(id=6, version=2, score=0.95093286, payload={'color': 'pink'}, vector=None, shard_key=None, order_value=None)])"
      ]
     },
     "execution_count": 48,
     "metadata": {},
     "output_type": "execute_result"
    }
   ],
   "source": [
    "client.query_points(\n",
    "    collection_name=\"collection_qdrant\",\n",
    "    query=[0.1,0.2,0.3,0.4],\n",
    "    \n",
    "    lookup_from=models.LookupLocation(\n",
    "        collection=\"named_vector\" ,\n",
    "        vector=\"text\"\n",
    "        \n",
    "    )\n",
    "    \n",
    ")"
   ]
  },
  {
   "cell_type": "markdown",
   "id": "84d3c2da",
   "metadata": {},
   "source": [
    "### Random Sampling"
   ]
  },
  {
   "cell_type": "code",
   "execution_count": 49,
   "id": "a9e03906",
   "metadata": {},
   "outputs": [
    {
     "data": {
      "text/plain": [
       "QueryResponse(points=[ScoredPoint(id=6, version=0, score=0.0, payload={'color': 'pink'}, vector=None, shard_key=None, order_value=None), ScoredPoint(id=5, version=0, score=0.0, payload={'color': 'blue'}, vector=None, shard_key=None, order_value=None), ScoredPoint(id=1, version=0, score=0.0, payload={'category': 'culture', 'color': 'red'}, vector=None, shard_key=None, order_value=None), ScoredPoint(id=2, version=0, score=0.0, payload={'category': 'travel'}, vector=None, shard_key=None, order_value=None), ScoredPoint(id=4, version=0, score=0.0, payload={'color': 'yellow'}, vector=None, shard_key=None, order_value=None), ScoredPoint(id=3, version=0, score=0.0, payload={'color': 'green'}, vector=None, shard_key=None, order_value=None)])"
      ]
     },
     "execution_count": 49,
     "metadata": {},
     "output_type": "execute_result"
    }
   ],
   "source": [
    "client.query_points(\n",
    "    collection_name=\"collection_qdrant\",\n",
    "    query=models.SampleQuery(sample=models.Sample.RANDOM)\n",
    ")"
   ]
  },
  {
   "cell_type": "markdown",
   "id": "8a960d11",
   "metadata": {},
   "source": [
    "## Explore the data"
   ]
  },
  {
   "cell_type": "markdown",
   "id": "e819c2d2",
   "metadata": {},
   "source": [
    "### Recommendation API\n",
    "It’s a special feature in Qdrant that lets you find items similar to what you like or dislike.\n",
    "Instead of just searching for one query vector, you can provide multiple examples.\n",
    "Positive examples → things you like (Qdrant will try to find similar items).\n",
    "Negative examples → things you don’t like (Qdrant will avoid items similar to these)."
   ]
  },
  {
   "cell_type": "code",
   "execution_count": null,
   "id": "aa8e83f9",
   "metadata": {},
   "outputs": [],
   "source": [
    "client.query_points(\n",
    "    collection_name=\"collection_qdrant\",\n",
    "    query=models.RecommendQuery(\n",
    "        recommend=models.RecommendInput(\n",
    "            positive=[0.1,0.2,0.3,0.4],\n",
    "            negative=[0.8,0.9,0.2,0.4],\n",
    "            strategy=models.RecommendStrategy.AVERAGE_VECTOR\n",
    "        )\n",
    "\n",
    "    ),\n",
    ")"
   ]
  },
  {
   "cell_type": "markdown",
   "id": "71232d08",
   "metadata": {},
   "source": [
    "### Discovery API\n",
    "Context is the extra information given to guide the search.Typically, it’s given as pairs of positive and negative vectors.These pairs define what “similar” or “good” means in a certain situation.\n",
    "Discovery search: Uses the context (the pairs of positive-negative vectors) and a target to return the points more similar to the target, but constrained by the context.\n",
    "Context search: Using only the context pairs, get the points that live in the best zone, where loss is minimize"
   ]
  },
  {
   "cell_type": "markdown",
   "id": "448ebe5a",
   "metadata": {},
   "source": [
    "## Hybrid Queries and MultiStage Queries"
   ]
  },
  {
   "cell_type": "markdown",
   "id": "53da24c1",
   "metadata": {},
   "source": [
    "A hybrid query combines vector similarity search with traditional filtering (like metadata or payload filters).\n",
    "You don’t just find points that are closest in vector space.\n",
    "You also apply filters to include/exclude points based on some conditions.\n",
    "====> 2 ways :\n",
    "1.Reciprocal Rank Fusion=rrf\n",
    "2.Distribution based score fusion=DBSF"
   ]
  },
  {
   "cell_type": "markdown",
   "id": "13bc5d13",
   "metadata": {},
   "source": [
    "Hybrid Queries"
   ]
  },
  {
   "cell_type": "code",
   "execution_count": 54,
   "id": "9617f95e",
   "metadata": {},
   "outputs": [],
   "source": [
    "from qdrant_client import QdrantClient,models"
   ]
  },
  {
   "cell_type": "code",
   "execution_count": 56,
   "id": "ee56f948",
   "metadata": {},
   "outputs": [
    {
     "data": {
      "text/plain": [
       "True"
      ]
     },
     "execution_count": 56,
     "metadata": {},
     "output_type": "execute_result"
    }
   ],
   "source": [
    "client.create_collection(\n",
    "    collection_name=\"hybrid_query\",\n",
    "    vectors_config={\"dense\":models.VectorParams(size=3,distance=models.Distance.COSINE),},\n",
    "    sparse_vectors_config={\"sparse\":models.SparseVectorParams()}\n",
    "    )\n",
    "    \n"
   ]
  },
  {
   "cell_type": "code",
   "execution_count": 58,
   "id": "5e2ccb56",
   "metadata": {},
   "outputs": [
    {
     "data": {
      "text/plain": [
       "UpdateResult(operation_id=0, status=<UpdateStatus.COMPLETED: 'completed'>)"
      ]
     },
     "execution_count": 58,
     "metadata": {},
     "output_type": "execute_result"
    }
   ],
   "source": [
    "client.upsert(\n",
    "    collection_name=\"hybrid_query\",\n",
    "    points=[models.PointStruct(\n",
    "            id=1,\n",
    "            vector={\n",
    "                \"sparse\":models.SparseVector(indices=[1,2],values=[0.1,0.2]),\n",
    "                \"dense\":[0.1,0.1,0.1]\n",
    "            },\n",
    "            payload={\n",
    "                \"color\":\"red\"\n",
    "            }\n",
    "    )]\n",
    ")"
   ]
  },
  {
   "cell_type": "code",
   "execution_count": 61,
   "id": "756db94d",
   "metadata": {},
   "outputs": [
    {
     "data": {
      "text/plain": [
       "UpdateResult(operation_id=3, status=<UpdateStatus.COMPLETED: 'completed'>)"
      ]
     },
     "execution_count": 61,
     "metadata": {},
     "output_type": "execute_result"
    }
   ],
   "source": [
    "client.upsert(\n",
    "    collection_name=\"hybrid_query\",\n",
    "    points=[models.PointStruct(\n",
    "        id=2,\n",
    "        payload={\n",
    "            \"color\":\"blue\"\n",
    "        },\n",
    "        vector={\n",
    "            \"sparse\":models.SparseVector(indices=[1,2,3],values=[0.2,0.5,0.6]),\n",
    "            \"dense\":[0.1,0.5,0.001]\n",
    "        }\n",
    "\n",
    "    ),\n",
    "    models.PointStruct(\n",
    "        id=3,\n",
    "        vector={\n",
    "            \"sparse\":models.SparseVector(indices=[1],values=[0.1]),\n",
    "            \"dense\":[0.2,0.5,0.2]\n",
    "        }\n",
    "    )\n",
    "    ]\n",
    ")"
   ]
  },
  {
   "cell_type": "code",
   "execution_count": 67,
   "id": "887f1e1c",
   "metadata": {},
   "outputs": [
    {
     "data": {
      "text/plain": [
       "QueryResponse(points=[ScoredPoint(id=2, version=3, score=0.5, payload={'color': 'blue'}, vector=None, shard_key=None, order_value=None), ScoredPoint(id=1, version=0, score=0.5, payload={'color': 'red'}, vector=None, shard_key=None, order_value=None)])"
      ]
     },
     "execution_count": 67,
     "metadata": {},
     "output_type": "execute_result"
    }
   ],
   "source": [
    "client.query_points(\n",
    "    collection_name=\"hybrid_query\",\n",
    "    prefetch=[models.Prefetch(\n",
    "        query=models.SparseVector(indices=[1],values=[0.2]),\n",
    "        using=\"sparse\",\n",
    "        limit=1\n",
    "\n",
    "    ),\n",
    "    models.Prefetch(\n",
    "        query=[0.2,0.2,0.2],\n",
    "        using=\"dense\",\n",
    "        limit=1\n",
    "    )\n",
    "    ],\n",
    "    query=models.FusionQuery(fusion=models.Fusion.RRF)\n",
    ")"
   ]
  },
  {
   "cell_type": "code",
   "execution_count": 68,
   "id": "da582bdf",
   "metadata": {},
   "outputs": [
    {
     "data": {
      "text/plain": [
       "UpdateResult(operation_id=5, status=<UpdateStatus.COMPLETED: 'completed'>)"
      ]
     },
     "execution_count": 68,
     "metadata": {},
     "output_type": "execute_result"
    }
   ],
   "source": [
    "client.create_payload_index(\n",
    "    collection_name=\"hybrid_query\",\n",
    "    field_name=\"color\",\n",
    "    field_schema=\"keyword\"\n",
    ")"
   ]
  },
  {
   "cell_type": "markdown",
   "id": "5dd2abe6",
   "metadata": {},
   "source": [
    "Multistage Queries"
   ]
  },
  {
   "cell_type": "markdown",
   "id": "6dc4590f",
   "metadata": {},
   "source": [
    "Instead of running just for one search run in multiple search  "
   ]
  },
  {
   "cell_type": "markdown",
   "id": "32e04f74",
   "metadata": {},
   "source": [
    "## Filtering\n",
    "Searching the result using condition on the metadata of the points. \n",
    "\n",
    "Filtering Clauses\n",
    "1. Must\n",
    "2. Should\n",
    "3. Must not"
   ]
  },
  {
   "cell_type": "code",
   "execution_count": 70,
   "id": "977011b7",
   "metadata": {},
   "outputs": [
    {
     "data": {
      "text/plain": [
       "([Record(id=2, payload={'color': 'blue'}, vector=None, shard_key=None, order_value=None)],\n",
       " None)"
      ]
     },
     "execution_count": 70,
     "metadata": {},
     "output_type": "execute_result"
    }
   ],
   "source": [
    "# Using Must \n",
    "client.scroll(\n",
    "    collection_name=\"hybrid_query\",\n",
    "    scroll_filter=models.Filter(\n",
    "        must=[\n",
    "            models.FieldCondition(\n",
    "                key=\"color\",\n",
    "                match=models.MatchValue(value=\"blue\")\n",
    "            )\n",
    "        ]\n",
    "\n",
    "    )\n",
    ")"
   ]
  },
  {
   "cell_type": "code",
   "execution_count": 71,
   "id": "b76b8226",
   "metadata": {},
   "outputs": [
    {
     "data": {
      "text/plain": [
       "UpdateResult(operation_id=6, status=<UpdateStatus.COMPLETED: 'completed'>)"
      ]
     },
     "execution_count": 71,
     "metadata": {},
     "output_type": "execute_result"
    }
   ],
   "source": [
    "client.upsert(\n",
    "    collection_name=\"hybrid_query\",\n",
    "    points=[\n",
    "        models.PointStruct(\n",
    "            id=4,\n",
    "            payload={\n",
    "                \"color\":\"lavender\",\n",
    "                \"brand\":\"swift\"\n",
    "            },\n",
    "            vector={\n",
    "                \"sparse\":models.SparseVector(indices=[1],values=[0.1]),\n",
    "                \"dense\":[0.1,0.1,0.01]\n",
    "            }\n",
    "        ),\n",
    "        models.PointStruct(\n",
    "            id=5,\n",
    "            payload={\n",
    "                \"color\":\"vanilla\",\n",
    "                \"brand\":\"tesla\"\n",
    "            },\n",
    "            vector={\n",
    "                \"sparse\":models.SparseVector(indices=[1],values=[0.2]),\n",
    "                \"dense\":[0.2,0.2,0.2]\n",
    "            }\n",
    "        )\n",
    "    ]\n",
    ")"
   ]
  },
  {
   "cell_type": "code",
   "execution_count": 73,
   "id": "b9ee5521",
   "metadata": {},
   "outputs": [
    {
     "data": {
      "text/plain": [
       "([Record(id=4, payload={'color': 'lavender', 'brand': 'swift'}, vector=None, shard_key=None, order_value=None)],\n",
       " None)"
      ]
     },
     "execution_count": 73,
     "metadata": {},
     "output_type": "execute_result"
    }
   ],
   "source": [
    "client.scroll(\n",
    "    collection_name=\"hybrid_query\",\n",
    "    scroll_filter=models.Filter(\n",
    "        must=[\n",
    "            models.FieldCondition(\n",
    "                key=\"color\",\n",
    "                match=models.MatchValue(value=\"lavender\")\n",
    "            ),\n",
    "            models.FieldCondition(\n",
    "                key=\"brand\",\n",
    "                match=models.MatchValue(value=\"swift\")\n",
    "            )\n",
    "        ],\n",
    "\n",
    "    ),\n",
    "    \n",
    ")"
   ]
  },
  {
   "cell_type": "code",
   "execution_count": null,
   "id": "a1adc668",
   "metadata": {},
   "outputs": [
    {
     "data": {
      "text/plain": [
       "([Record(id=4, payload={'color': 'lavender', 'brand': 'swift'}, vector=None, shard_key=None, order_value=None)],\n",
       " None)"
      ]
     },
     "execution_count": 76,
     "metadata": {},
     "output_type": "execute_result"
    }
   ],
   "source": [
    "#Match Condition MatchAny \n",
    "client.scroll(\n",
    "    collection_name=\"hybrid_query\",\n",
    "    scroll_filter=models.Filter(\n",
    "        must=[\n",
    "            models.FieldCondition(\n",
    "                key=\"color\",\n",
    "                match=models.MatchAny(any=[\"lavender\",\"green\"])\n",
    "            ),\n",
    "           \n",
    "        ]\n",
    "    )\n",
    ")"
   ]
  },
  {
   "cell_type": "code",
   "execution_count": 80,
   "id": "09ab751f",
   "metadata": {},
   "outputs": [
    {
     "data": {
      "text/plain": [
       "([Record(id=1, payload={'color': 'red'}, vector=None, shard_key=None, order_value=None),\n",
       "  Record(id=2, payload={'color': 'blue'}, vector=None, shard_key=None, order_value=None),\n",
       "  Record(id=4, payload={'color': 'lavender', 'brand': 'swift'}, vector=None, shard_key=None, order_value=None),\n",
       "  Record(id=5, payload={'color': 'vanilla', 'brand': 'tesla'}, vector=None, shard_key=None, order_value=None)],\n",
       " None)"
      ]
     },
     "execution_count": 80,
     "metadata": {},
     "output_type": "execute_result"
    }
   ],
   "source": [
    "\n",
    "client.scroll(\n",
    "    collection_name=\"hybrid_query\",\n",
    "    scroll_filter=models.Filter(\n",
    "        must=[\n",
    "            models.FieldCondition(\n",
    "                key=\"color\",\n",
    "                match=models.MatchExcept(**{\"except\": [\"black\", \"yellow\"]}),\n",
    ")\n",
    "        ]\n",
    "    ),\n",
    ")"
   ]
  }
 ],
 "metadata": {
  "kernelspec": {
   "display_name": "env_name (3.12.7)",
   "language": "python",
   "name": "python3"
  },
  "language_info": {
   "codemirror_mode": {
    "name": "ipython",
    "version": 3
   },
   "file_extension": ".py",
   "mimetype": "text/x-python",
   "name": "python",
   "nbconvert_exporter": "python",
   "pygments_lexer": "ipython3",
   "version": "3.12.7"
  }
 },
 "nbformat": 4,
 "nbformat_minor": 5
}
