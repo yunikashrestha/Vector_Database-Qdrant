{
 "cells": [
  {
   "cell_type": "markdown",
   "id": "c4d35c41",
   "metadata": {},
   "source": [
    "## Sentence Transformer"
   ]
  },
  {
   "cell_type": "markdown",
   "id": "e78f8f7f",
   "metadata": {},
   "source": [
    "###### pip install -U sentence-transformer"
   ]
  },
  {
   "cell_type": "code",
   "execution_count": 4,
   "id": "2eeacc64",
   "metadata": {},
   "outputs": [],
   "source": [
    "from sentence_transformers import SentenceTransformer"
   ]
  },
  {
   "cell_type": "code",
   "execution_count": 5,
   "id": "75a24a4f",
   "metadata": {},
   "outputs": [],
   "source": [
    "from qdrant_client import models,QdrantClient"
   ]
  },
  {
   "cell_type": "code",
   "execution_count": 6,
   "id": "7deb6b38",
   "metadata": {},
   "outputs": [],
   "source": [
    "encoder = SentenceTransformer(\"all-MiniLM-L6-v2\")"
   ]
  },
  {
   "cell_type": "markdown",
   "id": "86d5b87e",
   "metadata": {},
   "source": [
    "## Loading json file called tripod.json"
   ]
  },
  {
   "cell_type": "code",
   "execution_count": 7,
   "id": "27fe8102",
   "metadata": {},
   "outputs": [
    {
     "name": "stdout",
     "output_type": "stream",
     "text": [
      "<class 'dict'>\n"
     ]
    }
   ],
   "source": [
    "import json \n",
    "with open(\"tripod.json\",\"r\",encoding=\"utf-8\") as f:\n",
    "    documents=json.load(f)\n",
    "print(type(documents))  # <class 'list'>\n"
   ]
  },
  {
   "cell_type": "code",
   "execution_count": 8,
   "id": "92ad4d81",
   "metadata": {},
   "outputs": [],
   "source": [
    "client=QdrantClient()"
   ]
  },
  {
   "cell_type": "markdown",
   "id": "1a7c597b",
   "metadata": {},
   "source": [
    "### Creating a collection"
   ]
  },
  {
   "cell_type": "code",
   "execution_count": null,
   "id": "a8fe4b00",
   "metadata": {},
   "outputs": [
    {
     "data": {
      "text/plain": [
       "True"
      ]
     },
     "execution_count": 16,
     "metadata": {},
     "output_type": "execute_result"
    }
   ],
   "source": [
    "client.create_collection(\n",
    "    collection_name=\"daraj_camera\",\n",
    "    vectors_config=models.VectorParams(\n",
    "        size=encoder.get_sentence_embedding_dimension(),#if you’re using all-MiniLM-L6-v2, its output embeddings have 384 dimensions\n",
    "        distance=models.Distance.COSINE,\n",
    "    ),\n",
    ")"
   ]
  },
  {
   "cell_type": "markdown",
   "id": "5ea809dd",
   "metadata": {},
   "source": [
    "### Dividing the dataset into the chunks"
   ]
  },
  {
   "cell_type": "code",
   "execution_count": null,
   "id": "190c668e",
   "metadata": {},
   "outputs": [],
   "source": [
    "import re \n",
    "import os\n",
    "import json"
   ]
  },
  {
   "cell_type": "code",
   "execution_count": null,
   "id": "578ffc2c",
   "metadata": {},
   "outputs": [],
   "source": [
    "file_path=\"tripod.json\"\n",
    "chunk_size=256\n",
    "base_name=os.path.splitext(os.path.basename(file_path))[0]\n",
    "# os.path.basename(file_path) file_path=>\"/home/yunika/images/camera.jpg\" =>camera.jpg\n",
    "# os.path.splitext(camera.jpg=>camera)\n",
    "collection_name=\"camera\"\n",
    "embedding_model_name=\"all-MiniLM-L6-v2\""
   ]
  },
  {
   "cell_type": "markdown",
   "id": "d57c1c82",
   "metadata": {},
   "source": [
    "### Function for tokenizing the data and then diving into chunks"
   ]
  },
  {
   "cell_type": "code",
   "execution_count": null,
   "id": "4df11974",
   "metadata": {},
   "outputs": [],
   "source": [
    "def chunk_text(text,chunk_size):\n",
    "    start=0\n",
    "    tokens=re.findall(r'\\w+|[{}[\\]:,\",]', text) # tokenize the text and the special characters\n",
    "    #text = '{\"id\": 1, \"name\": \"camera\"}'\n",
    "    # tokens = ['{', 'id', ':', '1', ',', 'name', ':', 'camera', '}']\n",
    "    chunks=[]\n",
    "    while start < len(tokens):\n",
    "        end = min(start + chunk_size, len(tokens))\n",
    "        chunk = \" \".join(tokens[start:end])\n",
    "        chunks.append(chunk)\n",
    "        start += chunk_size\n",
    "# First chunk: ['{', 'id', ':', '1'] → \"{ id : 1\"\n",
    "# Second chunk: [',', 'name', ':', 'camera'] → \", name : camera\"\n",
    "# Third chunk: ['}'] → \"}\"\n",
    "    return chunks"
   ]
  },
  {
   "cell_type": "code",
   "execution_count": null,
   "id": "a40fceb1",
   "metadata": {},
   "outputs": [],
   "source": [
    "# loading the file and convert to dict and json.dumps() converts the dict to String\n",
    "# JSON file content\n",
    "# {\"name\": \"Camera\", \"price\": 100}\n",
    "# # After json.load(f)\n",
    "# data = {\"name\": \"Camera\", \"price\": 100}  # Python dict\n",
    "\n",
    "with open(file_path, \"r\", encoding=\"utf-8\") as f:\n",
    "        data = json.load(f)#Reads the content of the file and convert it into a Python object (dict, list,)\n",
    "raw_text=json.dumps(data)#Converts a Python object back into a JSON-formatted string."
   ]
  },
  {
   "cell_type": "markdown",
   "id": "40c5363f",
   "metadata": {},
   "source": [
    "### Calling chunk_text function"
   ]
  },
  {
   "cell_type": "code",
   "execution_count": null,
   "id": "c5e772a0",
   "metadata": {},
   "outputs": [
    {
     "name": "stdout",
     "output_type": "stream",
     "text": [
      "120\n"
     ]
    }
   ],
   "source": [
    "chunks=chunk_text(raw_text,chunk_size=200)\n",
    "print(len(chunks))"
   ]
  },
  {
   "cell_type": "code",
   "execution_count": 9,
   "id": "b5f353e9",
   "metadata": {},
   "outputs": [],
   "source": [
    "client=QdrantClient(url=\"http://localhost:6333\")"
   ]
  },
  {
   "cell_type": "code",
   "execution_count": 10,
   "id": "4a8926a4",
   "metadata": {},
   "outputs": [
    {
     "data": {
      "text/plain": [
       "384"
      ]
     },
     "execution_count": 10,
     "metadata": {},
     "output_type": "execute_result"
    }
   ],
   "source": [
    "encoder.get_sentence_embedding_dimension()"
   ]
  },
  {
   "cell_type": "code",
   "execution_count": 11,
   "id": "f2cc719e",
   "metadata": {},
   "outputs": [
    {
     "ename": "NameError",
     "evalue": "name 'base_name' is not defined",
     "output_type": "error",
     "traceback": [
      "\u001b[31m---------------------------------------------------------------------------\u001b[39m",
      "\u001b[31mNameError\u001b[39m                                 Traceback (most recent call last)",
      "\u001b[36mCell\u001b[39m\u001b[36m \u001b[39m\u001b[32mIn[11]\u001b[39m\u001b[32m, line 1\u001b[39m\n\u001b[32m----> \u001b[39m\u001b[32m1\u001b[39m payloads={\u001b[33m\"\u001b[39m\u001b[33mfilename\u001b[39m\u001b[33m\"\u001b[39m:\u001b[43mbase_name\u001b[49m}\n",
      "\u001b[31mNameError\u001b[39m: name 'base_name' is not defined"
     ]
    }
   ],
   "source": [
    "payloads={\"filename\":base_name}"
   ]
  },
  {
   "cell_type": "code",
   "execution_count": 12,
   "id": "1608ba04",
   "metadata": {},
   "outputs": [
    {
     "ename": "NameError",
     "evalue": "name 'chunks' is not defined",
     "output_type": "error",
     "traceback": [
      "\u001b[31m---------------------------------------------------------------------------\u001b[39m",
      "\u001b[31mNameError\u001b[39m                                 Traceback (most recent call last)",
      "\u001b[36mCell\u001b[39m\u001b[36m \u001b[39m\u001b[32mIn[12]\u001b[39m\u001b[32m, line 1\u001b[39m\n\u001b[32m----> \u001b[39m\u001b[32m1\u001b[39m embeddings=encoder.encode(\u001b[43mchunks\u001b[49m,show_progress_bar=\u001b[38;5;28;01mTrue\u001b[39;00m,convert_to_numpy=\u001b[38;5;28;01mTrue\u001b[39;00m)\n",
      "\u001b[31mNameError\u001b[39m: name 'chunks' is not defined"
     ]
    }
   ],
   "source": [
    "embeddings=encoder.encode(chunks,show_progress_bar=True,convert_to_numpy=True)"
   ]
  },
  {
   "cell_type": "code",
   "execution_count": 13,
   "id": "3f901405",
   "metadata": {},
   "outputs": [
    {
     "ename": "NameError",
     "evalue": "name 'embeddings' is not defined",
     "output_type": "error",
     "traceback": [
      "\u001b[31m---------------------------------------------------------------------------\u001b[39m",
      "\u001b[31mNameError\u001b[39m                                 Traceback (most recent call last)",
      "\u001b[36mCell\u001b[39m\u001b[36m \u001b[39m\u001b[32mIn[13]\u001b[39m\u001b[32m, line 1\u001b[39m\n\u001b[32m----> \u001b[39m\u001b[32m1\u001b[39m \u001b[43membeddings\u001b[49m\n",
      "\u001b[31mNameError\u001b[39m: name 'embeddings' is not defined"
     ]
    }
   ],
   "source": [
    "embeddings"
   ]
  },
  {
   "cell_type": "code",
   "execution_count": 14,
   "id": "4f5c0bfe",
   "metadata": {},
   "outputs": [
    {
     "ename": "NameError",
     "evalue": "name 'chunks' is not defined",
     "output_type": "error",
     "traceback": [
      "\u001b[31m---------------------------------------------------------------------------\u001b[39m",
      "\u001b[31mNameError\u001b[39m                                 Traceback (most recent call last)",
      "\u001b[36mCell\u001b[39m\u001b[36m \u001b[39m\u001b[32mIn[14]\u001b[39m\u001b[32m, line 13\u001b[39m\n\u001b[32m      1\u001b[39m client.upsert(\n\u001b[32m      2\u001b[39m     collection_name=\u001b[33m\"\u001b[39m\u001b[33mdaraj_camera\u001b[39m\u001b[33m\"\u001b[39m,\n\u001b[32m      3\u001b[39m     points=[\n\u001b[32m      4\u001b[39m         models.PointStruct(\n\u001b[32m      5\u001b[39m             \u001b[38;5;28mid\u001b[39m=idx,\n\u001b[32m      6\u001b[39m             vector=embeddings[idx].tolist(),\n\u001b[32m      7\u001b[39m             payload={\n\u001b[32m      8\u001b[39m                 \u001b[33m\"\u001b[39m\u001b[33mfilename\u001b[39m\u001b[33m\"\u001b[39m: base_name,     \u001b[38;5;66;03m# keep original filename\u001b[39;00m\n\u001b[32m      9\u001b[39m                 \u001b[33m\"\u001b[39m\u001b[33mchunk_id\u001b[39m\u001b[33m\"\u001b[39m: idx,           \u001b[38;5;66;03m# which chunk number\u001b[39;00m\n\u001b[32m     10\u001b[39m                 \u001b[33m\"\u001b[39m\u001b[33mchunk_text\u001b[39m\u001b[33m\"\u001b[39m: chunks[idx]  \u001b[38;5;66;03m# actual chunk text\u001b[39;00m\n\u001b[32m     11\u001b[39m             }\n\u001b[32m     12\u001b[39m             )\n\u001b[32m---> \u001b[39m\u001b[32m13\u001b[39m             \u001b[38;5;28;01mfor\u001b[39;00m idx \u001b[38;5;129;01min\u001b[39;00m \u001b[38;5;28mrange\u001b[39m(\u001b[38;5;28mlen\u001b[39m(\u001b[43mchunks\u001b[49m)\n\u001b[32m     14\u001b[39m \n\u001b[32m     15\u001b[39m \n\u001b[32m     16\u001b[39m         )\n\u001b[32m     17\u001b[39m     ]\n\u001b[32m     18\u001b[39m )\n",
      "\u001b[31mNameError\u001b[39m: name 'chunks' is not defined"
     ]
    }
   ],
   "source": [
    "client.upsert(\n",
    "    collection_name=\"daraj_camera\",\n",
    "    points=[\n",
    "        models.PointStruct(\n",
    "            id=idx,\n",
    "            vector=embeddings[idx].tolist(),\n",
    "            payload={\n",
    "                \"filename\": base_name,     # keep original filename\n",
    "                \"chunk_id\": idx,           # which chunk number\n",
    "                \"chunk_text\": chunks[idx]  # actual chunk text\n",
    "            }\n",
    "            )\n",
    "            for idx in range(len(chunks)\n",
    "\n",
    "\n",
    "        )\n",
    "    ]\n",
    ")"
   ]
  },
  {
   "cell_type": "code",
   "execution_count": 15,
   "id": "7c63aee1",
   "metadata": {},
   "outputs": [],
   "source": [
    "query=\"NeePho NP-3160 Tripod Mobile Phone Camcorder Action Camera 105cm Height\""
   ]
  },
  {
   "cell_type": "code",
   "execution_count": 16,
   "id": "f119c8e5",
   "metadata": {},
   "outputs": [
    {
     "name": "stdout",
     "output_type": "stream",
     "text": [
      "46 score: 0.43707132\n",
      "69 score: 0.4156302\n",
      "0 score: 0.40533966\n",
      "108 score: 0.40314996\n",
      "57 score: 0.38794452\n"
     ]
    }
   ],
   "source": [
    "hits = client.query_points(\n",
    "    collection_name=\"daraj_camera\",\n",
    "    query=encoder.encode([query])[0].tolist(),\n",
    "    limit=5,\n",
    ").points\n",
    "\n",
    "for hit in hits:\n",
    "    print(hit.id, \"score:\", hit.score)"
   ]
  }
 ],
 "metadata": {
  "kernelspec": {
   "display_name": "env_name (3.12.7)",
   "language": "python",
   "name": "python3"
  },
  "language_info": {
   "codemirror_mode": {
    "name": "ipython",
    "version": 3
   },
   "file_extension": ".py",
   "mimetype": "text/x-python",
   "name": "python",
   "nbconvert_exporter": "python",
   "pygments_lexer": "ipython3",
   "version": "3.12.7"
  }
 },
 "nbformat": 4,
 "nbformat_minor": 5
}
