{
 "cells": [
  {
   "cell_type": "code",
   "execution_count": 2,
   "id": "6e826cdb",
   "metadata": {},
   "outputs": [],
   "source": [
    "import re\n",
    "import os \n",
    "import json"
   ]
  },
  {
   "cell_type": "code",
   "execution_count": 3,
   "id": "43f4d4ee",
   "metadata": {},
   "outputs": [],
   "source": [
    "file_name=\"cctv_camera.json\"\n",
    "base_name=os.path.splitext(os.path.basename(file_name))[0] #This takes only the file name part not the extension part"
   ]
  },
  {
   "cell_type": "code",
   "execution_count": 4,
   "id": "d1a53bb3",
   "metadata": {},
   "outputs": [],
   "source": [
    "with open(file_name,'r',encoding=\"utf-8\") as f:\n",
    "    data = json.load(f)"
   ]
  },
  {
   "cell_type": "code",
   "execution_count": 5,
   "id": "e95062ac",
   "metadata": {},
   "outputs": [],
   "source": [
    "item_list = data[\"mods\"][\"listItems\"]"
   ]
  },
  {
   "cell_type": "code",
   "execution_count": 6,
   "id": "555029c6",
   "metadata": {},
   "outputs": [],
   "source": [
    "def chunking_each_doc(doc,chunk_size = 128):\n",
    "    start = 0\n",
    "    doc = json.dumps(doc)\n",
    "    tokens = re.findall(r'\\w+|[{}[\\]:,\",]',doc)\n",
    "    chunks = []\n",
    "    while start <= len(tokens):\n",
    "        end = min(start+chunk_size,len(tokens))\n",
    "        chunk = \" \".join(tokens[start:end])\n",
    "        chunks.append(chunk)\n",
    "        start+=chunk_size\n",
    "    return chunks"
   ]
  },
  {
   "cell_type": "code",
   "execution_count": 7,
   "id": "f54411df",
   "metadata": {},
   "outputs": [],
   "source": [
    "all_chunks = []\n",
    "for item in item_list:\n",
    "    chunks_of_each_doc= chunking_each_doc(item)\n",
    "    all_chunks.append(chunks_of_each_doc)"
   ]
  },
  {
   "cell_type": "code",
   "execution_count": 8,
   "id": "bd791b6c",
   "metadata": {},
   "outputs": [
    {
     "data": {
      "text/plain": [
       "40"
      ]
     },
     "execution_count": 8,
     "metadata": {},
     "output_type": "execute_result"
    }
   ],
   "source": [
    "len(all_chunks)"
   ]
  },
  {
   "cell_type": "code",
   "execution_count": 9,
   "id": "f0a88b31",
   "metadata": {},
   "outputs": [
    {
     "data": {
      "text/plain": [
       "'\" , \" current_price \" : \" 4359 \" , \" x_object_id \" : \" 366335641 \" } , \" originalPriceShow \" : \" \" , \" priceShow \" : \" Rs 4 , 359 \" , \" ratingScore \" : \" 5 0 \" , \" review \" : \" 7 \" , \" location \" : \" Bagmati Province \" , \" description \" : [ \" Storage Options : Supports memory cards up to 128GB and cloud storage \" , \" Advanced Night Vision : 6 Dual Core LEDs for the right and left cameras , 11 Dual Core LEDs for the PTZ camera Includes 3 modes : Full Color , IR , and Intelligent Night Vision with auto detection and remote controlled white LED'"
      ]
     },
     "execution_count": 9,
     "metadata": {},
     "output_type": "execute_result"
    }
   ],
   "source": [
    "all_chunks[0][2]"
   ]
  },
  {
   "cell_type": "code",
   "execution_count": 10,
   "id": "0611b6d0",
   "metadata": {},
   "outputs": [
    {
     "data": {
      "text/plain": [
       "['{ \" name \" : \" EZVIZ H6C CS H6C 2Mp Smart Panaromic View Camera \" , \" nid \" : \" 128843472 \" , \" itemId \" : \" 128843472 \" , \" icons \" : [ { \" domClass \" : \" 150565 \" , \" type \" : \" img \" , \" group \" : \" 6 \" , \" showType \" : \" 0 \" } , { \" domClass \" : \" 116088 \" , \" type \" : \" img \" , \" group \" : \" 2 \" , \" showType \" : \" 0 \" } , { \" domClass \" : \" 150318 \" , \" text \" : \" Gems save Rs 92 \" , \" type',\n",
       " '\" : \" text \" , \" group \" : \" 2 \" , \" showType \" : \" 0 \" } , { \" domClass \" : \" 175175 \" , \" type \" : \" img \" , \" group \" : \" 3 \" , \" showType \" : \" 0 \" } ] , \" image \" : \" https : static 01 daraz com np p 0be43cf2e6fb25f1770e227ce52cb2a2 jpg \" , \" isSmartImage \" : false , \" utLogMap \" : { \" srp_name \" : \" LazadaMainSrp \" , \" x_object_type \" : \" item \" , \" src \" : \" organic \" , \" trafficType \" : \" organic \" , \" x_sku_ids \" : \" 1036762079 \" , \" x_item_ids',\n",
       " '\" : \" 128843472 \" , \" iconList \" : \" 150565 116088 150318 175175 \" , \" SN \" : \" f2c4c23a4ec97433ccd27c0620ae54e5 \" , \" current_price \" : \" 3050 \" , \" x_object_id \" : \" 128843472 \" } , \" originalPriceShow \" : \" \" , \" priceShow \" : \" Rs 3 , 050 \" , \" ratingScore \" : \" 4 95 \" , \" review \" : \" 40 \" , \" location \" : \" Bagmati Province \" , \" description \" : [ \" Resolution : 1080p \" , \" Night Vision : IR Night Vision Upto 10m \" , \" Angle : 360 degrees Panoramic View \" , \" Extras : Motion Detection , Auto Tracking , Sleep mode',\n",
       " '\" , \" Audio : Two way Talk Technology with both speaker and microphone built in \" , \" Access camera from anywhere in the world with other smart features from EZVIZ Smart App \" ] , \" thumbs \" : [ ] , \" sellerName \" : \" Bhusal Tech Traders Pvt Ltd \" , \" sellerId \" : \" 900154521252 \" , \" brandName \" : \" No Brand \" , \" brandId \" : \" 39704 \" , \" cheapest_sku \" : \" 128843472_NP 1036762079 \" , \" skuId \" : \" 1036762079 \" , \" sku \" : \" 128843472_NP \" , \" categories \" : [ 240 , 10002953 , 10002904 ] , \" price \" : \" 3050 \" , \" inStock',\n",
       " '\" : true , \" originalPrice \" : \" 6000 \" , \" clickTrace \" : \" query : camera nid : 128843472 src : LazadaMainSrp rn : f2c4c23a4ec97433ccd27c0620ae54e5 region : np sku : 128843472_NP price : 3050 client : desktop supplier_id : 900154521252 biz_source : h5_unknow slot : 1 utlog_bucket_id : 470687 asc_category_id : 10002904 item_id : 128843472 sku_id : 1036762079 shop_id : 69280 templateInfo : 1_A3_C 1103_L \" , \" itemSoldCntShow \" : \" 346 sold \" , \" longImageDisplayable \" : false , \" skus \" : [ { \" id \" : \" 128843472_NP 1036762079 \" } ] , \" promotionId \" : \" \" , \" isSponsored \" : false , \" tItemType \" : \" nt_product \" , \" skuType \" :',\n",
       " '\" \" , \" adFlag \" : \" 0 \" , \" directSimilarUrl \" : \" https : native m lazada com dynamicxresult item_img https 3A 2F 2Fstatic 01 daraz com np 2Fp 2F0be43cf2e6fb25f1770e227ce52cb2a2 jpg src srp_findsimilar item_id 128843472 sku_id 1036762079 params 7B 22sub_src 22 3A 22long_press 22 2C 22src 22 3A 22srp_findsimilar 22 7D m tpp_findSimilar q camera similarType findSimilarV1 price 3050 00 spuTriggerItem 0 \" , \" gridTitleLine \" : \" 2 \" , \" isFission \" : \" 0 \" , \" isBadgeAutoScroll \" : false , \" showCart \" : false , \" showBackIcon \" : false , \" showUnitPrice \" : false , \" itemUrl \" : \" www daraz com np products hikvision ezviz h6c cs h6c 2mp smart panaromic view camera',\n",
       " 'i128843472 html \" , \" querystring \" : \" fs_ab 1 priceCompare skuId 3A1036762079 3Bsource 3Alazada search voucher 3Bsn 3Af2c4c23a4ec97433ccd27c0620ae54e5 3BoriginPrice 3A305000 3BdisplayPrice 3A305000 3BsinglePromotionId 3A50000018794008 3BsingleToolCode 3ApromPrice 3BvoucherPricePlugin 3A0 3Btimestamp 3A1758778236841 c ratingscore 4 95 freeshipping 0 source search channelLpJumpArgs fuse_fs search 1 sale 346 price 3 05E 203 review 40 location Bagmati 20Province stock 1 lang en request_id f2c4c23a4ec97433ccd27c0620ae54e5 clickTrackInfo query 253Acamera 253Bnid 253A128843472 253Bsrc 253ALazadaMainSrp 253Brn 253Af2c4c23a4ec97433ccd27c0620ae54e5 253Bregion 253Anp 253Bsku 253A128843472_NP 253Bprice 253A3050 253Bclient 253Adesktop 253Bsupplier_id 253A900154521252 253Bbiz_source 253Ah5_unknow 253Bslot 253A1 253Butlog_bucket_id 253A470687 253Basc_category_id 253A10002904 253Bitem_id 253A128843472 253Bsku_id 253A1036762079 253Bshop_id 253A69280 253BtemplateInfo 253A 1_A3_C 25231103_L 2523 \" }']"
      ]
     },
     "execution_count": 10,
     "metadata": {},
     "output_type": "execute_result"
    }
   ],
   "source": [
    "all_chunks[1]"
   ]
  },
  {
   "cell_type": "code",
   "execution_count": 11,
   "id": "3dd64bff",
   "metadata": {},
   "outputs": [
    {
     "name": "stderr",
     "output_type": "stream",
     "text": [
      "c:\\Users\\Asus\\OneDrive\\Desktop\\AutoLab\\env_name\\Lib\\site-packages\\tqdm\\auto.py:21: TqdmWarning: IProgress not found. Please update jupyter and ipywidgets. See https://ipywidgets.readthedocs.io/en/stable/user_install.html\n",
      "  from .autonotebook import tqdm as notebook_tqdm\n"
     ]
    }
   ],
   "source": [
    "from qdrant_client import QdrantClient,models\n",
    "from sentence_transformers import SentenceTransformer\n",
    "client=QdrantClient(url=\"http://localhost:6333\")\n",
    "encoder = SentenceTransformer(\"all-MiniLM-L6-v2\")"
   ]
  },
  {
   "cell_type": "code",
   "execution_count": 12,
   "id": "fcb8e3eb",
   "metadata": {},
   "outputs": [],
   "source": [
    "dense_vector_name=\"dense\"\n",
    "sparse_vector_name=\"sparse\"\n",
    "dense_model_name=\"sentence-transformers/all-MiniLM-L6-v2\"\n",
    "sparse_model_name=\"prithivida/Splade_PP_en_v1\""
   ]
  },
  {
   "cell_type": "code",
   "execution_count": 23,
   "id": "43bd56a9",
   "metadata": {},
   "outputs": [],
   "source": [
    "if not client.collection_exists(\"hybrid_search_daraz_items\"):\n",
    "    client.create_collection(\n",
    "        collection_name = \"hybrid_search_daraz_items\",\n",
    "        vectors_config = {\n",
    "            \"dense\" : models.VectorParams(size = client.get_embedding_size(dense_model_name), distance = models.Distance.COSINE)\n",
    "\n",
    "        },\n",
    "        sparse_vectors_config= {\n",
    "            \"sparse\" : models.SparseVectorParams()\n",
    "        }\n",
    "    )"
   ]
  },
  {
   "cell_type": "code",
   "execution_count": 24,
   "id": "f386f63a",
   "metadata": {},
   "outputs": [
    {
     "name": "stderr",
     "output_type": "stream",
     "text": [
      "Batches: 100%|██████████| 1/1 [00:00<00:00,  1.71it/s]\n",
      "Batches: 100%|██████████| 1/1 [00:00<00:00,  2.52it/s]\n",
      "Batches: 100%|██████████| 1/1 [00:00<00:00,  4.00it/s]\n",
      "Batches: 100%|██████████| 1/1 [00:00<00:00,  3.12it/s]\n",
      "Batches: 100%|██████████| 1/1 [00:00<00:00,  3.18it/s]\n",
      "Batches: 100%|██████████| 1/1 [00:00<00:00,  3.58it/s]\n",
      "Batches: 100%|██████████| 1/1 [00:00<00:00,  2.74it/s]\n",
      "Batches: 100%|██████████| 1/1 [00:00<00:00,  2.98it/s]\n",
      "Batches: 100%|██████████| 1/1 [00:00<00:00,  3.12it/s]\n",
      "Batches: 100%|██████████| 1/1 [00:00<00:00,  2.69it/s]\n",
      "Batches: 100%|██████████| 1/1 [00:00<00:00,  4.74it/s]\n",
      "Batches: 100%|██████████| 1/1 [00:00<00:00,  4.78it/s]\n",
      "Batches: 100%|██████████| 1/1 [00:00<00:00,  5.17it/s]\n",
      "Batches: 100%|██████████| 1/1 [00:00<00:00,  4.52it/s]\n",
      "Batches: 100%|██████████| 1/1 [00:00<00:00,  4.78it/s]\n",
      "Batches: 100%|██████████| 1/1 [00:00<00:00,  3.31it/s]\n",
      "Batches: 100%|██████████| 1/1 [00:00<00:00,  5.07it/s]\n",
      "Batches: 100%|██████████| 1/1 [00:00<00:00,  4.61it/s]\n",
      "Batches: 100%|██████████| 1/1 [00:00<00:00,  3.28it/s]\n",
      "Batches: 100%|██████████| 1/1 [00:00<00:00,  4.66it/s]\n",
      "Batches: 100%|██████████| 1/1 [00:00<00:00,  5.39it/s]\n",
      "Batches: 100%|██████████| 1/1 [00:00<00:00,  4.59it/s]\n",
      "Batches: 100%|██████████| 1/1 [00:00<00:00,  4.50it/s]\n",
      "Batches: 100%|██████████| 1/1 [00:00<00:00,  3.55it/s]\n",
      "Batches: 100%|██████████| 1/1 [00:00<00:00,  4.27it/s]\n",
      "Batches: 100%|██████████| 1/1 [00:00<00:00,  3.75it/s]\n",
      "Batches: 100%|██████████| 1/1 [00:00<00:00,  4.55it/s]\n",
      "Batches: 100%|██████████| 1/1 [00:00<00:00,  5.25it/s]\n",
      "Batches: 100%|██████████| 1/1 [00:00<00:00,  4.63it/s]\n",
      "Batches: 100%|██████████| 1/1 [00:00<00:00,  4.27it/s]\n",
      "Batches: 100%|██████████| 1/1 [00:00<00:00,  4.69it/s]\n",
      "Batches: 100%|██████████| 1/1 [00:00<00:00,  4.25it/s]\n",
      "Batches: 100%|██████████| 1/1 [00:00<00:00,  4.70it/s]\n",
      "Batches: 100%|██████████| 1/1 [00:00<00:00,  4.53it/s]\n",
      "Batches: 100%|██████████| 1/1 [00:00<00:00,  4.23it/s]\n",
      "Batches: 100%|██████████| 1/1 [00:00<00:00,  4.56it/s]\n",
      "Batches: 100%|██████████| 1/1 [00:00<00:00,  3.86it/s]\n",
      "Batches: 100%|██████████| 1/1 [00:00<00:00,  4.30it/s]\n",
      "Batches: 100%|██████████| 1/1 [00:00<00:00,  3.14it/s]\n",
      "Batches: 100%|██████████| 1/1 [00:00<00:00,  3.97it/s]\n"
     ]
    }
   ],
   "source": [
    "# creation of embeddings\n",
    "\n",
    "#dense vectors and sparse vectors of the same document and chunks\n",
    "final_dense_vector = []\n",
    "final_sparse_vector = []\n",
    "for i in range(len(all_chunks)):\n",
    "        dense_embeddings = encoder.encode(all_chunks[i],show_progress_bar=True,convert_to_numpy=True)\n",
    "        final_dense_vector.append(dense_embeddings)"
   ]
  },
  {
   "cell_type": "code",
   "execution_count": 25,
   "id": "b4199a41",
   "metadata": {},
   "outputs": [
    {
     "data": {
      "text/plain": [
       "UpdateResult(operation_id=567, status=<UpdateStatus.COMPLETED: 'completed'>)"
      ]
     },
     "execution_count": 25,
     "metadata": {},
     "output_type": "execute_result"
    }
   ],
   "source": [
    "client.create_payload_index(\n",
    "    collection_name=\"hybrid_search_daraz_items\",\n",
    "    field_name=\"doc_id\",\n",
    "    field_schema=\"integer\"\n",
    "\n",
    ")"
   ]
  },
  {
   "cell_type": "code",
   "execution_count": 26,
   "id": "b0304364",
   "metadata": {},
   "outputs": [
    {
     "data": {
      "text/plain": [
       "UpdateResult(operation_id=569, status=<UpdateStatus.COMPLETED: 'completed'>)"
      ]
     },
     "execution_count": 26,
     "metadata": {},
     "output_type": "execute_result"
    }
   ],
   "source": [
    "client.create_payload_index(\n",
    "    collection_name=\"hybrid_search_daraz_items\",\n",
    "    field_name=\"chunk_id\",\n",
    "    field_schema=\"integer\"\n",
    ")"
   ]
  },
  {
   "cell_type": "code",
   "execution_count": 27,
   "id": "ad48ddee",
   "metadata": {},
   "outputs": [
    {
     "data": {
      "text/plain": [
       "UpdateResult(operation_id=571, status=<UpdateStatus.COMPLETED: 'completed'>)"
      ]
     },
     "execution_count": 27,
     "metadata": {},
     "output_type": "execute_result"
    }
   ],
   "source": [
    "client.create_payload_index(\n",
    "    collection_name=\"hybrid_search_daraz_items\",\n",
    "    field_name=\"file_name\",\n",
    "    field_schema=\"keyword\"\n",
    ")"
   ]
  },
  {
   "cell_type": "code",
   "execution_count": 29,
   "id": "f057f72f",
   "metadata": {},
   "outputs": [],
   "source": [
    "offset = 0\n",
    "info = client.get_collection(collection_name = \"hybrid_search_daraz_items\")\n",
    "file_number = 0\n",
    "count = info.points_count\n",
    "if(count!=0):\n",
    "    res, _ = client.scroll(\n",
    "        collection_name = \"hybrid_search_daraz_items\",\n",
    "        with_payload = True,\n",
    "        with_vectors=False,\n",
    "        limit = 1,\n",
    "        order_by = {\n",
    "            \"key\":\"chunk_id\",\n",
    "            \"direction\" : \"desc\"\n",
    "        }\n",
    ")\n",
    "    \n",
    "    if(res):\n",
    "        file_number = res[0].payload.get(\"doc_id\")[0]\n",
    "        file_number = file_number + 1\n",
    "        last_id = res[0].id\n",
    "        offset = last_id + 1\n",
    "    else:\n",
    "        offset = 0\n",
    "else:\n",
    "    offset = 0\n",
    "    file_number = 0\n",
    "\n",
    "\n",
    "for doc in range(len(all_chunks)):\n",
    "    for idx in range(len(all_chunks[doc])):\n",
    "        client.upsert(\n",
    "            collection_name = \"hybrid_search_daraz_items\",\n",
    "            points = [\n",
    "                models.PointStruct(\n",
    "                    id = offset,\n",
    "                    payload = {\n",
    "                        \"doc_id\" : (file_number,doc),\n",
    "                        \"chunk_id\":offset,\n",
    "                        \"chunk\" : all_chunks[doc][idx],\n",
    "                        \"file_name\" : base_name\n",
    "                    },\n",
    "                    vector = {\n",
    "                        \"dense\": final_dense_vector[doc][idx].tolist(),\n",
    "                        \"sparse\" : models.Document(text = all_chunks[doc][idx],model = sparse_model_name)\n",
    "                    }\n",
    "                )\n",
    "            ]\n",
    "        )\n",
    "        offset+=1"
   ]
  },
  {
   "cell_type": "code",
   "execution_count": 21,
   "id": "32f1d044",
   "metadata": {},
   "outputs": [],
   "source": [
    "class HybridSearch:\n",
    "    \n",
    "    def __init__(self,collection_name):\n",
    "        self.collection_name = collection_name\n",
    "        self.client = QdrantClient(url = \"http://localhost:6333\")\n",
    "        self.encoder_dense = SentenceTransformer(\"all-MiniLM-L6-v2\")\n",
    "        self.sparse_model = \"prithivida/Splade_PP_en_v1\"\n",
    "    def search_points(self,item:str):\n",
    "        search_result = self.client.query_points(\n",
    "            collection_name = self.collection_name,\n",
    "            query = models.FusionQuery(\n",
    "                fusion = models.Fusion.RRF\n",
    "            ),\n",
    "            prefetch=[\n",
    "                models.Prefetch(\n",
    "                    query= self.encoder_dense.encode([item])[0].tolist(),\n",
    "                    using = \"dense\",\n",
    "                    \n",
    "                ),\n",
    "                models.Prefetch(\n",
    "                    query = models.Document(text = item,model = self.sparse_model),\n",
    "                    using = \"sparse\",\n",
    "                )\n",
    "                ],\n",
    "                query_filter=None,\n",
    "                limit = 3\n",
    "        ).points\n",
    "\n",
    "        dense_result = self.client.query_points(\n",
    "        collection_name=self.collection_name,\n",
    "        query=self.encoder_dense.encode([item])[0].tolist(),\n",
    "        using=\"dense\",\n",
    "        limit=3\n",
    "        ).points\n",
    "\n",
    "        sparse_result = self.client.query_points(\n",
    "        collection_name=self.collection_name,\n",
    "        query=models.Document(text=item, model=self.sparse_model),\n",
    "        using=\"sparse\",\n",
    "        limit=3\n",
    "        ).points\n",
    "\n",
    "        for point in search_result:\n",
    "            print(\"score = \",point.score, \"Point_id=\", point.id, \"doc_id = \", point.payload.get(\"doc_id\"), \"file_name = \",point.payload.get(\"file_name\"), \"chunk_id = \" , point.payload.get(\"chunk_id\"))"
   ]
  },
  {
   "cell_type": "code",
   "execution_count": 22,
   "id": "a5de11f2",
   "metadata": {},
   "outputs": [
    {
     "name": "stdout",
     "output_type": "stream",
     "text": [
      "score =  0.64285713 Point_id= 322 doc_id =  [1, 6] file_name =  cctv_camera chunk_id =  322\n",
      "score =  0.5 Point_id= 321 doc_id =  [1, 6] file_name =  cctv_camera chunk_id =  321\n",
      "score =  0.5 Point_id= 45 doc_id =  [0, 6] file_name =  cctv_camera chunk_id =  45\n"
     ]
    }
   ],
   "source": [
    "search_item = HybridSearch(\"hybrid_search_daraz_items\")\n",
    "search_item.search_points(\"Rechargeable camera battery\")"
   ]
  }
 ],
 "metadata": {
  "kernelspec": {
   "display_name": "env_name (3.12.7)",
   "language": "python",
   "name": "python3"
  },
  "language_info": {
   "codemirror_mode": {
    "name": "ipython",
    "version": 3
   },
   "file_extension": ".py",
   "mimetype": "text/x-python",
   "name": "python",
   "nbconvert_exporter": "python",
   "pygments_lexer": "ipython3",
   "version": "3.12.7"
  }
 },
 "nbformat": 4,
 "nbformat_minor": 5
}
